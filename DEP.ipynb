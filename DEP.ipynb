{
 "cells": [
  {
   "cell_type": "code",
   "execution_count": 2,
   "id": "78f67468-ab11-4290-a385-203d289bd339",
   "metadata": {},
   "outputs": [],
   "source": [
    "# Import any necessary libraries\n",
    "import random\n"
   ]
  },
  {
   "cell_type": "code",
   "execution_count": 6,
   "id": "20bce32e-2d04-4265-a372-e96274247d21",
   "metadata": {},
   "outputs": [],
   "source": [
    "# Example starting value\n",
    "num_red = 10  \n",
    "# Example starting value\n",
    "num_blue = 10\n",
    "# or 'misere'\n",
    "version = 'standard'\n",
    "# or 'human'\n",
    "first_player = 'computer'\n",
    " # AI depth search level\n",
    "depth = 3\n"
   ]
  },
  {
   "cell_type": "code",
   "execution_count": 8,
   "id": "f85e3474-be08-4407-8472-cee92d4a5341",
   "metadata": {},
   "outputs": [],
   "source": [
    "class RedBlueNim:\n",
    "    def __init__(self, num_red, num_blue, version='standard'):\n",
    "        self.num_red = num_red\n",
    "        self.num_blue = num_blue\n",
    "        self.version = version\n",
    "\n",
    "    def is_game_over(self):\n",
    "        return self.num_red == 0 or self.num_blue == 0\n",
    "\n",
    "    def make_move(self, color, count):\n",
    "        if color == 'red':\n",
    "            self.num_red -= count\n",
    "        elif color == 'blue':\n",
    "            self.num_blue -= count\n",
    "\n",
    "        return self.is_game_over()\n",
    "\n",
    "    def get_score(self):\n",
    "        return self.num_red * 2 + self.num_blue * 3\n"
   ]
  },
  {
   "cell_type": "code",
   "execution_count": 10,
   "id": "8428dac9-7983-477c-b3c6-48c69f06e63b",
   "metadata": {},
   "outputs": [],
   "source": [
    "def play_game(game, first_player='computer', depth=3):\n",
    "    current_player = first_player\n",
    "\n",
    "    while not game.is_game_over():\n",
    "        print(f\"Current state: {game.num_red} red marbles, {game.num_blue} blue marbles\")\n",
    "\n",
    "        if current_player == 'human':\n",
    "            color, count = get_human_move()\n",
    "            game.make_move(color, count)\n",
    "            current_player = 'computer'\n",
    "        else:\n",
    "            color, count = get_computer_move(game, depth)\n",
    "            game.make_move(color, count)\n",
    "            current_player = 'human'\n",
    "\n",
    "    print(f\"Game over! Final score: {game.get_score()}\")\n"
   ]
  },
  {
   "cell_type": "code",
   "execution_count": 12,
   "id": "b329259a-e392-4322-9cdc-37884fa836d2",
   "metadata": {},
   "outputs": [],
   "source": [
    "def get_human_move():\n",
    "    color = input(\"Choose a color to pick marbles from (red/blue): \").strip().lower()\n",
    "    count = int(input(f\"How many {color} marbles would you like to pick? \"))\n",
    "\n",
    "    while count <= 0 or (color == 'red' and count > num_red) or (color == 'blue' and count > num_blue):\n",
    "        print(\"Invalid move, try again.\")\n",
    "        color = input(\"Choose a color to pick marbles from (red/blue): \").strip().lower()\n",
    "        count = int(input(f\"How many {color} marbles would you like to pick? \"))\n",
    "\n",
    "    return color, count\n"
   ]
  },
  {
   "cell_type": "code",
   "execution_count": 14,
   "id": "ba1e818a-a93c-4fb2-98ac-e4a4371a5b54",
   "metadata": {},
   "outputs": [],
   "source": [
    "def minmax(game, depth, alpha, beta, maximizing_player):\n",
    "    if game.is_game_over() or depth == 0:\n",
    "        return evaluate_game_state(game)\n",
    "\n",
    "    if maximizing_player:\n",
    "        max_eval = float('-inf')\n",
    "        for move in generate_moves(game):\n",
    "            evaluation = minmax(move, depth - 1, alpha, beta, False)\n",
    "            max_eval = max(max_eval, evaluation)\n",
    "            alpha = max(alpha, evaluation)\n",
    "            if beta <= alpha:\n",
    "                break\n",
    "        return max_eval\n",
    "    else:\n",
    "        min_eval = float('inf')\n",
    "        for move in generate_moves(game):\n",
    "            evaluation = minmax(move, depth - 1, alpha, beta, True)\n",
    "            min_eval = min(min_eval, evaluation)\n",
    "            beta = min(beta, evaluation)\n",
    "            if beta <= alpha:\n",
    "                break\n",
    "        return min_eval\n"
   ]
  },
  {
   "cell_type": "code",
   "execution_count": 16,
   "id": "12877fe9-57ee-498c-b268-b17ac4542e8b",
   "metadata": {},
   "outputs": [],
   "source": [
    "def generate_moves(game):\n",
    "    moves = []\n",
    "    if game.version == 'standard':\n",
    "        # Standard move ordering\n",
    "        if game.num_red >= 2:\n",
    "            moves.append(('red', 2))\n",
    "        if game.num_blue >= 2:\n",
    "            moves.append(('blue', 2))\n",
    "        if game.num_red >= 1:\n",
    "            moves.append(('red', 1))\n",
    "        if game.num_blue >= 1:\n",
    "            moves.append(('blue', 1))\n",
    "    else:\n",
    "        # Misère move ordering\n",
    "        if game.num_blue >= 1:\n",
    "            moves.append(('blue', 1))\n",
    "        if game.num_red >= 1:\n",
    "            moves.append(('red', 1))\n",
    "        if game.num_blue >= 2:\n",
    "            moves.append(('blue', 2))\n",
    "        if game.num_red >= 2:\n",
    "            moves.append(('red', 2))\n",
    "    return moves\n"
   ]
  },
  {
   "cell_type": "code",
   "execution_count": 18,
   "id": "d64a1f1e-f09e-400c-ac45-bd547b172020",
   "metadata": {},
   "outputs": [],
   "source": [
    "def evaluate_game_state(game):\n",
    "    if game.is_game_over():\n",
    "        if game.version == 'standard':\n",
    "            return float('inf') if game.num_red == 0 or game.num_blue == 0 else float('-inf')\n",
    "        else:\n",
    "            return float('-inf') if game.num_red == 0 or game.num_blue == 0 else float('inf')\n",
    "    return game.get_score()\n"
   ]
  },
  {
   "cell_type": "code",
   "execution_count": null,
   "id": "45ab1978-2ea2-4592-9be2-7fc9b463f592",
   "metadata": {},
   "outputs": [],
   "source": [
    "if game.is_game_over():\n",
    "    print(f\"Game over! Final score: {game.get_score()}\")"
   ]
  },
  {
   "cell_type": "code",
   "execution_count": 24,
   "id": "731fbabc-fea0-4ff5-a91f-d2317ea819f8",
   "metadata": {},
   "outputs": [],
   "source": [
    "def get_computer_move(game, depth):\n",
    "    # For now, we'll implement a simple strategy: pick the largest available move\n",
    "    possible_moves = generate_moves(game)\n",
    "    # In a more advanced implementation, you would use the MinMax algorithm here\n",
    "    # Select a move at random (or the first one for simplicity)\n",
    "    move = possible_moves[0]\n",
    "    print(f\"Computer selects: {move[1]} {move[0]} marbles\")\n",
    "    return move\n",
    "\n",
    "def generate_moves(game):\n",
    "    moves = []\n",
    "    if game.version == 'standard':\n",
    "        # Standard move ordering\n",
    "        if game.num_red >= 2:\n",
    "            moves.append(('red', 2))\n",
    "        if game.num_blue >= 2:\n",
    "            moves.append(('blue', 2))\n",
    "        if game.num_red >= 1:\n",
    "            moves.append(('red', 1))\n",
    "        if game.num_blue >= 1:\n",
    "            moves.append(('blue', 1))\n",
    "    else:\n",
    "        # Misère move ordering\n",
    "        if game.num_blue >= 1:\n",
    "            moves.append(('blue', 1))\n",
    "        if game.num_red >= 1:\n",
    "            moves.append(('red', 1))\n",
    "        if game.num_blue >= 2:\n",
    "            moves.append(('blue', 2))\n",
    "        if game.num_red >= 2:\n",
    "            moves.append(('red', 2))\n",
    "    return moves\n"
   ]
  },
  {
   "cell_type": "code",
   "execution_count": 26,
   "id": "c9cc45d5-250c-4d16-aa60-33bbe2461b39",
   "metadata": {},
   "outputs": [
    {
     "name": "stdout",
     "output_type": "stream",
     "text": [
      "Current state: 10 red marbles, 10 blue marbles\n"
     ]
    },
    {
     "name": "stdin",
     "output_type": "stream",
     "text": [
      "Choose a color to pick marbles from (red/blue):  red\n",
      "How many red marbles would you like to pick?  1\n"
     ]
    },
    {
     "name": "stdout",
     "output_type": "stream",
     "text": [
      "Current state: 9 red marbles, 10 blue marbles\n",
      "Computer selects: 2 red marbles\n",
      "Current state: 7 red marbles, 10 blue marbles\n"
     ]
    },
    {
     "name": "stdin",
     "output_type": "stream",
     "text": [
      "Choose a color to pick marbles from (red/blue):  blue\n",
      "How many blue marbles would you like to pick?  1\n"
     ]
    },
    {
     "name": "stdout",
     "output_type": "stream",
     "text": [
      "Current state: 7 red marbles, 9 blue marbles\n",
      "Computer selects: 2 red marbles\n",
      "Current state: 5 red marbles, 9 blue marbles\n"
     ]
    },
    {
     "name": "stdin",
     "output_type": "stream",
     "text": [
      "Choose a color to pick marbles from (red/blue):  blue\n",
      "How many blue marbles would you like to pick?  2\n"
     ]
    },
    {
     "name": "stdout",
     "output_type": "stream",
     "text": [
      "Current state: 5 red marbles, 7 blue marbles\n",
      "Computer selects: 2 red marbles\n",
      "Current state: 3 red marbles, 7 blue marbles\n"
     ]
    },
    {
     "name": "stdin",
     "output_type": "stream",
     "text": [
      "Choose a color to pick marbles from (red/blue):  blue\n",
      "How many blue marbles would you like to pick?  2\n"
     ]
    },
    {
     "name": "stdout",
     "output_type": "stream",
     "text": [
      "Current state: 3 red marbles, 5 blue marbles\n",
      "Computer selects: 2 red marbles\n",
      "Current state: 1 red marbles, 5 blue marbles\n"
     ]
    },
    {
     "name": "stdin",
     "output_type": "stream",
     "text": [
      "Choose a color to pick marbles from (red/blue):  blue\n",
      "How many blue marbles would you like to pick?  2\n"
     ]
    },
    {
     "name": "stdout",
     "output_type": "stream",
     "text": [
      "Current state: 1 red marbles, 3 blue marbles\n",
      "Computer selects: 2 blue marbles\n",
      "Current state: 1 red marbles, 1 blue marbles\n"
     ]
    },
    {
     "name": "stdin",
     "output_type": "stream",
     "text": [
      "Choose a color to pick marbles from (red/blue):  red\n",
      "How many red marbles would you like to pick?  1\n"
     ]
    },
    {
     "name": "stdout",
     "output_type": "stream",
     "text": [
      "Game over! Final score: 3\n"
     ]
    }
   ],
   "source": [
    "# Run the simulation\n",
    "simulate_game()\n"
   ]
  },
  {
   "cell_type": "code",
   "execution_count": null,
   "id": "69ca3208-214f-4695-aa20-36a77aa0c189",
   "metadata": {},
   "outputs": [],
   "source": []
  }
 ],
 "metadata": {
  "kernelspec": {
   "display_name": "Python 3 (ipykernel)",
   "language": "python",
   "name": "python3"
  },
  "language_info": {
   "codemirror_mode": {
    "name": "ipython",
    "version": 3
   },
   "file_extension": ".py",
   "mimetype": "text/x-python",
   "name": "python",
   "nbconvert_exporter": "python",
   "pygments_lexer": "ipython3",
   "version": "3.12.4"
  }
 },
 "nbformat": 4,
 "nbformat_minor": 5
}
